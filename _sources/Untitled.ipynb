{
 "cells": [
  {
   "cell_type": "code",
   "execution_count": 1,
   "id": "ccab6d68-0338-4e93-8a2f-eaa9c51b895e",
   "metadata": {},
   "outputs": [
    {
     "ename": "SyntaxError",
     "evalue": "invalid syntax (3983686772.py, line 3)",
     "output_type": "error",
     "traceback": [
      "\u001b[1;36m  Cell \u001b[1;32mIn[1], line 3\u001b[1;36m\u001b[0m\n\u001b[1;33m    - Vamos a restear\u001b[0m\n\u001b[1;37m            ^\u001b[0m\n\u001b[1;31mSyntaxError\u001b[0m\u001b[1;31m:\u001b[0m invalid syntax\n"
     ]
    }
   ],
   "source": [
    "# Mi primer cuaderno\n",
    "\n",
    "- Vamos a conocer\n",
    "- Mucha información acerca del petróleo\n",
    "![Imagen](https://image.cnbcfm.com/api/v1/image/107263409-1687885994047-gettyimages-1384536092-935a6287.jpg?v=1697599048&w=630&h=354&ffmt=webp&vtcrop=y)\n"
   ]
  },
  {
   "cell_type": "code",
   "execution_count": null,
   "id": "9f07fa7e-e1e3-42a0-a58a-eb3c62b3906d",
   "metadata": {},
   "outputs": [],
   "source": [
    "#hola mundo\n",
    "print\"Este es el Bloque 1\""
   ]
  }
 ],
 "metadata": {
  "kernelspec": {
   "display_name": "Python 3 (ipykernel)",
   "language": "python",
   "name": "python3"
  },
  "language_info": {
   "codemirror_mode": {
    "name": "ipython",
    "version": 3
   },
   "file_extension": ".py",
   "mimetype": "text/x-python",
   "name": "python",
   "nbconvert_exporter": "python",
   "pygments_lexer": "ipython3",
   "version": "3.12.0"
  }
 },
 "nbformat": 4,
 "nbformat_minor": 5
}
